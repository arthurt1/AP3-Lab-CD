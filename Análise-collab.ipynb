{
  "nbformat": 4,
  "nbformat_minor": 0,
  "metadata": {
    "colab": {
      "provenance": [],
      "include_colab_link": true
    },
    "kernelspec": {
      "name": "python3",
      "display_name": "Python 3"
    },
    "language_info": {
      "name": "python"
    }
  },
  "cells": [
    {
      "cell_type": "markdown",
      "metadata": {
        "id": "view-in-github",
        "colab_type": "text"
      },
      "source": [
        "<a href=\"https://colab.research.google.com/github/arthurt1/AP3-Lab-CD/blob/artur-garcia/An%C3%A1lise-collab.ipynb\" target=\"_parent\"><img src=\"https://colab.research.google.com/assets/colab-badge.svg\" alt=\"Open In Colab\"/></a>"
      ]
    },
    {
      "cell_type": "code",
      "source": [
        "# download dos datasets presentes no github\n"
      ],
      "metadata": {
        "id": "Hc2FswCugY7c"
      },
      "execution_count": null,
      "outputs": []
    },
    {
      "cell_type": "code",
      "execution_count": 2,
      "metadata": {
        "id": "vjwem2nXVx-E",
        "outputId": "cd44e5d0-47e5-498d-cde2-9e998ff08dab",
        "colab": {
          "base_uri": "https://localhost:8080/",
          "height": 141
        }
      },
      "outputs": [
        {
          "output_type": "stream",
          "name": "stdout",
          "text": [
            "O diretório /workspaces/AP3-Lab-CD/Datasets não existe.\n"
          ]
        },
        {
          "output_type": "error",
          "ename": "SystemExit",
          "evalue": "1",
          "traceback": [
            "An exception has occurred, use %tb to see the full traceback.\n",
            "\u001b[0;31mSystemExit\u001b[0m\u001b[0;31m:\u001b[0m 1\n"
          ]
        },
        {
          "output_type": "stream",
          "name": "stderr",
          "text": [
            "/usr/local/lib/python3.11/dist-packages/IPython/core/interactiveshell.py:3561: UserWarning: To exit: use 'exit', 'quit', or Ctrl-D.\n",
            "  warn(\"To exit: use 'exit', 'quit', or Ctrl-D.\", stacklevel=1)\n"
          ]
        }
      ],
      "source": [
        "import os\n",
        "import sys\n",
        "import json\n",
        "import pandas as pd\n",
        "from pathlib import Path\n",
        "\n",
        "def main():\n",
        "    # Define o diretório de datasets\n",
        "    datasets_dir = Path(\"/workspaces/AP3-Lab-CD/Datasets\")\n",
        "\n",
        "    # Verifica se o diretório existe\n",
        "    if not datasets_dir.exists():\n",
        "        print(f\"O diretório {datasets_dir} não existe.\")\n",
        "        sys.exit(1)\n",
        "\n",
        "    # Lista para armazenar os cabeçalhos\n",
        "    all_headers = []\n",
        "\n",
        "    # Itera sobre todos os arquivos no diretório de datasets\n",
        "    for file_path in datasets_dir.glob(\"*.csv\"):\n",
        "        try:\n",
        "            # Tentando múltiplas codificações\n",
        "            encodings = [\"utf-8\", \"ISO-8859-1\", \"latin1\"]\n",
        "            for encoding in encodings:\n",
        "                try:\n",
        "                    # Lê apenas o cabeçalho para evitar carregar grandes arquivos\n",
        "                    df = pd.read_csv(file_path, encoding=encoding, nrows=1)\n",
        "                    headers = df.columns.tolist()\n",
        "\n",
        "                    # Se for um arquivo vazio, ignora\n",
        "                    if not headers:\n",
        "                        print(f\"Aviso: {file_path.name} está vazio. Ignorando.\")\n",
        "                        break\n",
        "\n",
        "                    # Adiciona ao JSON final\n",
        "                    all_headers.append({file_path.name: headers})\n",
        "                    print(f\"✔ {file_path.name} carregado com sucesso.\")\n",
        "                    break\n",
        "                except UnicodeDecodeError:\n",
        "                    continue  # Tenta a próxima codificação\n",
        "            else:\n",
        "                print(f\"Erro: Não foi possível ler {file_path.name} com as codificações testadas.\")\n",
        "\n",
        "        except Exception as e:\n",
        "            print(f\"Erro ao processar {file_path.name}: {e}\")\n",
        "\n",
        "    # Define o caminho de saída do JSON\n",
        "    output_path = datasets_dir.parent / \"headers.json\"\n",
        "\n",
        "    # Salva os cabeçalhos em um arquivo JSON\n",
        "    with open(output_path, \"w\", encoding=\"utf-8\") as json_file:\n",
        "        json.dump(all_headers, json_file, indent=4, ensure_ascii=False)\n",
        "\n",
        "    print(f\"\\n✅ Cabeçalhos salvos em {output_path}\")\n",
        "    print(\"Processo concluído.\")\n",
        "\n",
        "if __name__ == \"__main__\":\n",
        "    main()\n"
      ]
    }
  ]
}